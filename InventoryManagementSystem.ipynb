{
  "nbformat": 4,
  "nbformat_minor": 0,
  "metadata": {
    "colab": {
      "name": "InventoryManagementSystem.ipynb",
      "provenance": [],
      "collapsed_sections": []
    },
    "kernelspec": {
      "name": "python3",
      "display_name": "Python 3"
    },
    "language_info": {
      "name": "python"
    }
  },
  "cells": [
    {
      "cell_type": "markdown",
      "metadata": {
        "id": "qVFd9t_pWUxt"
      },
      "source": [
        "## **INVENTORY MANAGEMENT SYSTEM**"
      ]
    },
    {
      "cell_type": "markdown",
      "metadata": {
        "id": "77IZ4v0HW2xH"
      },
      "source": [
        "**Product List**\n"
      ]
    },
    {
      "cell_type": "code",
      "metadata": {
        "id": "rlHmaOYFWSJ_"
      },
      "source": [
        "products = { 1101 :{'Product_name':'Cadbury','Price':10,'Quantity':50,'Type':'Chocolate','Calories':90},\n",
        "            1102:{'Product_name':'5 Star','Price':20,'Quantity':40,'Type':'Chocolate','Calories':100},\n",
        "            1103 :{'Product_name':'Lays','Price':10,'Quantity':100,'Type':'Chips','Calories':200},\n",
        "            1104 :{'Product_name':'Kurkure','Price':10,'Quantity':30,'Type':'Chips','Calories':190},\n",
        "            1105 :{'Product_name':'Pringles','Price':90,'Quantity':10,'Type':'Chips','Calories':50},\n",
        "            1106 :{'Product_name':'MilkyBar','Price':5,'Quantity':5,'Type':'Chocolate','Calories':150},\n",
        "            1107 :{'Product_name':'Sprite','Price':15,'Quantity':10,'Type':'Beverage','Calories':250},\n",
        "            1108 :{'Product_name':'Mazza','Price':20,'Quantity':20,'Type':'Beverage','Calories':130},\n",
        "            1109 :{'Product_name':'Coca Cola','Price':10,'Quantity':6,'Type':'Beverage','Calories':180},\n",
        "            1110 :{'Product_name':'Pepsi','Price':20,'Quantity':10,'Type':'Beverage','Calories':350},\n",
        "            1111 :{'Product_name':'Too Yum','Price':10,'Quantity':23,'Type':'Chips','Calories':100},\n",
        "            1112 :{'Product_name':'50 50','Price':5,'Quantity':50,'Type':'Biscuit','Calories':90},\n",
        "            1113:{'Product_name':'Jim Jam','Price':10,'Quantity':10,'Type':'Biscuit','Calories':100},\n",
        "            1114 :{'Product_name':'Dorritos','Price':40,'Quantity':100,'Type':'Chips','Calories':400},\n",
        "            1115 :{'Product_name':'Hide n Seek','Price':20,'Quantity':30,'Type':'Biscuit','Calories':200},\n",
        "            1116 :{'Product_name':'Cheetos','Price':10,'Quantity':10,'Type':'Chips','Calories':150},\n",
        "            1117 :{'Product_name':'Dairy Milk Silk','Price':90,'Quantity':15,'Type':'Chocolate','Calories':350},\n",
        "            1118 :{'Product_name':'Miranda','Price':55,'Quantity':5,'Type':'Beverage','Calories':550},\n",
        "            1119 :{'Product_name':'London Derry','Price':50,'Quantity':2,'Type':'Toffee','Calories':230},\n",
        "            1120 :{'Product_name':'Munch','Price':10,'Quantity':1,'Type':'Chocolate','Calories':280},\n",
        "            1121 :{'Product_name':'Slice','Price':20,'Quantity':10,'Type':'Beverage','Calories':450},\n",
        "            1122 :{'Product_name':'Aloo Bhujia','Price':10,'Quantity':5,'Type':'Chips','Calories':200},\n",
        "            1123 :{'Product_name':'Alpenlibe','Price':10,'Quantity':30,'Type':'Lollipop','Calories':100},\n",
        "            1124 :{'Product_name':'Eclairs','Price':2,'Quantity':50,'Type':'Toffee','Calories':40},\n",
        "            1125 :{'Product_name':'Kopiko','Price':2,'Quantity':60,'Type':'Toffee','Calories':90},\n",
        "            1126 :{'Product_name':'Melody','Price':5,'Quantity':50,'Type':'Toffee','Calories':50},\n",
        "            1127 :{'Product_name':'Thumbs up','Price':20,'Quantity':3,'Type':'Beverage','Calories':280},\n",
        "            1128 :{'Product_name':'Fanta','Price':20,'Quantity':16,'Type':'Beverage','Calories':480},\n",
        "            1129 :{'Product_name':'Oreo','Price':10,'Quantity':20,'Type':'Biscuit','Calories':200},\n",
        "            1130 :{'Product_name':'Parle G','Price':10,'Quantity':50,'Type':'Biscuit','Calories':150}\n",
        "            }"
      ],
      "execution_count": 1,
      "outputs": []
    },
    {
      "cell_type": "code",
      "metadata": {
        "id": "JKyoFzI9IflS"
      },
      "source": [
        "import json"
      ],
      "execution_count": 2,
      "outputs": []
    },
    {
      "cell_type": "markdown",
      "metadata": {
        "id": "la45WpfOXjtl"
      },
      "source": [
        "**Converting products in json format**"
      ]
    },
    {
      "cell_type": "code",
      "metadata": {
        "id": "V1d1Rh4PIoGw"
      },
      "source": [
        "js = json.dumps(products)"
      ],
      "execution_count": 3,
      "outputs": []
    },
    {
      "cell_type": "code",
      "metadata": {
        "colab": {
          "base_uri": "https://localhost:8080/",
          "height": 139
        },
        "id": "sjptAB2gIxPX",
        "outputId": "50a6bfe8-7cf6-4134-bb38-1f0455fd27d0"
      },
      "source": [
        "js"
      ],
      "execution_count": 4,
      "outputs": [
        {
          "output_type": "execute_result",
          "data": {
            "application/vnd.google.colaboratory.intrinsic+json": {
              "type": "string"
            },
            "text/plain": [
              "'{\"1101\": {\"Product_name\": \"Cadbury\", \"Price\": 10, \"Quantity\": 50, \"Type\": \"Chocolate\", \"Calories\": 90}, \"1102\": {\"Product_name\": \"5 Star\", \"Price\": 20, \"Quantity\": 40, \"Type\": \"Chocolate\", \"Calories\": 100}, \"1103\": {\"Product_name\": \"Lays\", \"Price\": 10, \"Quantity\": 100, \"Type\": \"Chips\", \"Calories\": 200}, \"1104\": {\"Product_name\": \"Kurkure\", \"Price\": 10, \"Quantity\": 30, \"Type\": \"Chips\", \"Calories\": 190}, \"1105\": {\"Product_name\": \"Pringles\", \"Price\": 90, \"Quantity\": 10, \"Type\": \"Chips\", \"Calories\": 50}, \"1106\": {\"Product_name\": \"MilkyBar\", \"Price\": 5, \"Quantity\": 5, \"Type\": \"Chocolate\", \"Calories\": 150}, \"1107\": {\"Product_name\": \"Sprite\", \"Price\": 15, \"Quantity\": 10, \"Type\": \"Beverage\", \"Calories\": 250}, \"1108\": {\"Product_name\": \"Mazza\", \"Price\": 20, \"Quantity\": 20, \"Type\": \"Beverage\", \"Calories\": 130}, \"1109\": {\"Product_name\": \"Coca Cola\", \"Price\": 10, \"Quantity\": 6, \"Type\": \"Beverage\", \"Calories\": 180}, \"1110\": {\"Product_name\": \"Pepsi\", \"Price\": 20, \"Quantity\": 10, \"Type\": \"Beverage\", \"Calories\": 350}, \"1111\": {\"Product_name\": \"Too Yum\", \"Price\": 10, \"Quantity\": 23, \"Type\": \"Chips\", \"Calories\": 100}, \"1112\": {\"Product_name\": \"50 50\", \"Price\": 5, \"Quantity\": 50, \"Type\": \"Biscuit\", \"Calories\": 90}, \"1113\": {\"Product_name\": \"Jim Jam\", \"Price\": 10, \"Quantity\": 10, \"Type\": \"Biscuit\", \"Calories\": 100}, \"1114\": {\"Product_name\": \"Dorritos\", \"Price\": 40, \"Quantity\": 100, \"Type\": \"Chips\", \"Calories\": 400}, \"1115\": {\"Product_name\": \"Hide n Seek\", \"Price\": 20, \"Quantity\": 30, \"Type\": \"Biscuit\", \"Calories\": 200}, \"1116\": {\"Product_name\": \"Cheetos\", \"Price\": 10, \"Quantity\": 10, \"Type\": \"Chips\", \"Calories\": 150}, \"1117\": {\"Product_name\": \"Dairy Milk Silk\", \"Price\": 90, \"Quantity\": 15, \"Type\": \"Chocolate\", \"Calories\": 350}, \"1118\": {\"Product_name\": \"Miranda\", \"Price\": 55, \"Quantity\": 5, \"Type\": \"Beverage\", \"Calories\": 550}, \"1119\": {\"Product_name\": \"London Derry\", \"Price\": 50, \"Quantity\": 2, \"Type\": \"Toffee\", \"Calories\": 230}, \"1120\": {\"Product_name\": \"Munch\", \"Price\": 10, \"Quantity\": 1, \"Type\": \"Chocolate\", \"Calories\": 280}, \"1121\": {\"Product_name\": \"Slice\", \"Price\": 20, \"Quantity\": 10, \"Type\": \"Beverage\", \"Calories\": 450}, \"1122\": {\"Product_name\": \"Aloo Bhujia\", \"Price\": 10, \"Quantity\": 5, \"Type\": \"Chips\", \"Calories\": 200}, \"1123\": {\"Product_name\": \"Alpenlibe\", \"Price\": 10, \"Quantity\": 30, \"Type\": \"Lollipop\", \"Calories\": 100}, \"1124\": {\"Product_name\": \"Eclairs\", \"Price\": 2, \"Quantity\": 50, \"Type\": \"Toffee\", \"Calories\": 40}, \"1125\": {\"Product_name\": \"Kopiko\", \"Price\": 2, \"Quantity\": 60, \"Type\": \"Toffee\", \"Calories\": 90}, \"1126\": {\"Product_name\": \"Melody\", \"Price\": 5, \"Quantity\": 50, \"Type\": \"Toffee\", \"Calories\": 50}, \"1127\": {\"Product_name\": \"Thumbs up\", \"Price\": 20, \"Quantity\": 3, \"Type\": \"Beverage\", \"Calories\": 280}, \"1128\": {\"Product_name\": \"Fanta\", \"Price\": 20, \"Quantity\": 16, \"Type\": \"Beverage\", \"Calories\": 480}, \"1129\": {\"Product_name\": \"Oreo\", \"Price\": 10, \"Quantity\": 20, \"Type\": \"Biscuit\", \"Calories\": 200}, \"1130\": {\"Product_name\": \"Parle G\", \"Price\": 10, \"Quantity\": 50, \"Type\": \"Biscuit\", \"Calories\": 150}}'"
            ]
          },
          "metadata": {},
          "execution_count": 4
        }
      ]
    },
    {
      "cell_type": "code",
      "metadata": {
        "colab": {
          "base_uri": "https://localhost:8080/"
        },
        "id": "DkW4sukCIysm",
        "outputId": "5ed09c17-e885-4834-f180-78164a968037"
      },
      "source": [
        "products"
      ],
      "execution_count": 5,
      "outputs": [
        {
          "output_type": "execute_result",
          "data": {
            "text/plain": [
              "{1101: {'Calories': 90,\n",
              "  'Price': 10,\n",
              "  'Product_name': 'Cadbury',\n",
              "  'Quantity': 50,\n",
              "  'Type': 'Chocolate'},\n",
              " 1102: {'Calories': 100,\n",
              "  'Price': 20,\n",
              "  'Product_name': '5 Star',\n",
              "  'Quantity': 40,\n",
              "  'Type': 'Chocolate'},\n",
              " 1103: {'Calories': 200,\n",
              "  'Price': 10,\n",
              "  'Product_name': 'Lays',\n",
              "  'Quantity': 100,\n",
              "  'Type': 'Chips'},\n",
              " 1104: {'Calories': 190,\n",
              "  'Price': 10,\n",
              "  'Product_name': 'Kurkure',\n",
              "  'Quantity': 30,\n",
              "  'Type': 'Chips'},\n",
              " 1105: {'Calories': 50,\n",
              "  'Price': 90,\n",
              "  'Product_name': 'Pringles',\n",
              "  'Quantity': 10,\n",
              "  'Type': 'Chips'},\n",
              " 1106: {'Calories': 150,\n",
              "  'Price': 5,\n",
              "  'Product_name': 'MilkyBar',\n",
              "  'Quantity': 5,\n",
              "  'Type': 'Chocolate'},\n",
              " 1107: {'Calories': 250,\n",
              "  'Price': 15,\n",
              "  'Product_name': 'Sprite',\n",
              "  'Quantity': 10,\n",
              "  'Type': 'Beverage'},\n",
              " 1108: {'Calories': 130,\n",
              "  'Price': 20,\n",
              "  'Product_name': 'Mazza',\n",
              "  'Quantity': 20,\n",
              "  'Type': 'Beverage'},\n",
              " 1109: {'Calories': 180,\n",
              "  'Price': 10,\n",
              "  'Product_name': 'Coca Cola',\n",
              "  'Quantity': 6,\n",
              "  'Type': 'Beverage'},\n",
              " 1110: {'Calories': 350,\n",
              "  'Price': 20,\n",
              "  'Product_name': 'Pepsi',\n",
              "  'Quantity': 10,\n",
              "  'Type': 'Beverage'},\n",
              " 1111: {'Calories': 100,\n",
              "  'Price': 10,\n",
              "  'Product_name': 'Too Yum',\n",
              "  'Quantity': 23,\n",
              "  'Type': 'Chips'},\n",
              " 1112: {'Calories': 90,\n",
              "  'Price': 5,\n",
              "  'Product_name': '50 50',\n",
              "  'Quantity': 50,\n",
              "  'Type': 'Biscuit'},\n",
              " 1113: {'Calories': 100,\n",
              "  'Price': 10,\n",
              "  'Product_name': 'Jim Jam',\n",
              "  'Quantity': 10,\n",
              "  'Type': 'Biscuit'},\n",
              " 1114: {'Calories': 400,\n",
              "  'Price': 40,\n",
              "  'Product_name': 'Dorritos',\n",
              "  'Quantity': 100,\n",
              "  'Type': 'Chips'},\n",
              " 1115: {'Calories': 200,\n",
              "  'Price': 20,\n",
              "  'Product_name': 'Hide n Seek',\n",
              "  'Quantity': 30,\n",
              "  'Type': 'Biscuit'},\n",
              " 1116: {'Calories': 150,\n",
              "  'Price': 10,\n",
              "  'Product_name': 'Cheetos',\n",
              "  'Quantity': 10,\n",
              "  'Type': 'Chips'},\n",
              " 1117: {'Calories': 350,\n",
              "  'Price': 90,\n",
              "  'Product_name': 'Dairy Milk Silk',\n",
              "  'Quantity': 15,\n",
              "  'Type': 'Chocolate'},\n",
              " 1118: {'Calories': 550,\n",
              "  'Price': 55,\n",
              "  'Product_name': 'Miranda',\n",
              "  'Quantity': 5,\n",
              "  'Type': 'Beverage'},\n",
              " 1119: {'Calories': 230,\n",
              "  'Price': 50,\n",
              "  'Product_name': 'London Derry',\n",
              "  'Quantity': 2,\n",
              "  'Type': 'Toffee'},\n",
              " 1120: {'Calories': 280,\n",
              "  'Price': 10,\n",
              "  'Product_name': 'Munch',\n",
              "  'Quantity': 1,\n",
              "  'Type': 'Chocolate'},\n",
              " 1121: {'Calories': 450,\n",
              "  'Price': 20,\n",
              "  'Product_name': 'Slice',\n",
              "  'Quantity': 10,\n",
              "  'Type': 'Beverage'},\n",
              " 1122: {'Calories': 200,\n",
              "  'Price': 10,\n",
              "  'Product_name': 'Aloo Bhujia',\n",
              "  'Quantity': 5,\n",
              "  'Type': 'Chips'},\n",
              " 1123: {'Calories': 100,\n",
              "  'Price': 10,\n",
              "  'Product_name': 'Alpenlibe',\n",
              "  'Quantity': 30,\n",
              "  'Type': 'Lollipop'},\n",
              " 1124: {'Calories': 40,\n",
              "  'Price': 2,\n",
              "  'Product_name': 'Eclairs',\n",
              "  'Quantity': 50,\n",
              "  'Type': 'Toffee'},\n",
              " 1125: {'Calories': 90,\n",
              "  'Price': 2,\n",
              "  'Product_name': 'Kopiko',\n",
              "  'Quantity': 60,\n",
              "  'Type': 'Toffee'},\n",
              " 1126: {'Calories': 50,\n",
              "  'Price': 5,\n",
              "  'Product_name': 'Melody',\n",
              "  'Quantity': 50,\n",
              "  'Type': 'Toffee'},\n",
              " 1127: {'Calories': 280,\n",
              "  'Price': 20,\n",
              "  'Product_name': 'Thumbs up',\n",
              "  'Quantity': 3,\n",
              "  'Type': 'Beverage'},\n",
              " 1128: {'Calories': 480,\n",
              "  'Price': 20,\n",
              "  'Product_name': 'Fanta',\n",
              "  'Quantity': 16,\n",
              "  'Type': 'Beverage'},\n",
              " 1129: {'Calories': 200,\n",
              "  'Price': 10,\n",
              "  'Product_name': 'Oreo',\n",
              "  'Quantity': 20,\n",
              "  'Type': 'Biscuit'},\n",
              " 1130: {'Calories': 150,\n",
              "  'Price': 10,\n",
              "  'Product_name': 'Parle G',\n",
              "  'Quantity': 50,\n",
              "  'Type': 'Biscuit'}}"
            ]
          },
          "metadata": {},
          "execution_count": 5
        }
      ]
    },
    {
      "cell_type": "markdown",
      "metadata": {
        "id": "Z9ibb9xkXzD2"
      },
      "source": [
        "**Saving product details in a file**"
      ]
    },
    {
      "cell_type": "code",
      "metadata": {
        "id": "Uy-ziwoZI2zx"
      },
      "source": [
        "fd = open('records.json','w')\n",
        "fd.write(js)\n",
        "fd.close()"
      ],
      "execution_count": 6,
      "outputs": []
    },
    {
      "cell_type": "code",
      "metadata": {
        "id": "1Kiwchl-Jeyv"
      },
      "source": [
        "fd = open('records.json','r')\n",
        "txt = fd.read()\n",
        "fd.close()"
      ],
      "execution_count": 7,
      "outputs": []
    },
    {
      "cell_type": "code",
      "metadata": {
        "colab": {
          "base_uri": "https://localhost:8080/",
          "height": 139
        },
        "id": "z9a5bNjbJ3aK",
        "outputId": "cf63bee8-a724-4fbb-dd52-e892ef625405"
      },
      "source": [
        "txt"
      ],
      "execution_count": 8,
      "outputs": [
        {
          "output_type": "execute_result",
          "data": {
            "application/vnd.google.colaboratory.intrinsic+json": {
              "type": "string"
            },
            "text/plain": [
              "'{\"1101\": {\"Product_name\": \"Cadbury\", \"Price\": 10, \"Quantity\": 50, \"Type\": \"Chocolate\", \"Calories\": 90}, \"1102\": {\"Product_name\": \"5 Star\", \"Price\": 20, \"Quantity\": 40, \"Type\": \"Chocolate\", \"Calories\": 100}, \"1103\": {\"Product_name\": \"Lays\", \"Price\": 10, \"Quantity\": 100, \"Type\": \"Chips\", \"Calories\": 200}, \"1104\": {\"Product_name\": \"Kurkure\", \"Price\": 10, \"Quantity\": 30, \"Type\": \"Chips\", \"Calories\": 190}, \"1105\": {\"Product_name\": \"Pringles\", \"Price\": 90, \"Quantity\": 10, \"Type\": \"Chips\", \"Calories\": 50}, \"1106\": {\"Product_name\": \"MilkyBar\", \"Price\": 5, \"Quantity\": 5, \"Type\": \"Chocolate\", \"Calories\": 150}, \"1107\": {\"Product_name\": \"Sprite\", \"Price\": 15, \"Quantity\": 10, \"Type\": \"Beverage\", \"Calories\": 250}, \"1108\": {\"Product_name\": \"Mazza\", \"Price\": 20, \"Quantity\": 20, \"Type\": \"Beverage\", \"Calories\": 130}, \"1109\": {\"Product_name\": \"Coca Cola\", \"Price\": 10, \"Quantity\": 6, \"Type\": \"Beverage\", \"Calories\": 180}, \"1110\": {\"Product_name\": \"Pepsi\", \"Price\": 20, \"Quantity\": 10, \"Type\": \"Beverage\", \"Calories\": 350}, \"1111\": {\"Product_name\": \"Too Yum\", \"Price\": 10, \"Quantity\": 23, \"Type\": \"Chips\", \"Calories\": 100}, \"1112\": {\"Product_name\": \"50 50\", \"Price\": 5, \"Quantity\": 50, \"Type\": \"Biscuit\", \"Calories\": 90}, \"1113\": {\"Product_name\": \"Jim Jam\", \"Price\": 10, \"Quantity\": 10, \"Type\": \"Biscuit\", \"Calories\": 100}, \"1114\": {\"Product_name\": \"Dorritos\", \"Price\": 40, \"Quantity\": 100, \"Type\": \"Chips\", \"Calories\": 400}, \"1115\": {\"Product_name\": \"Hide n Seek\", \"Price\": 20, \"Quantity\": 30, \"Type\": \"Biscuit\", \"Calories\": 200}, \"1116\": {\"Product_name\": \"Cheetos\", \"Price\": 10, \"Quantity\": 10, \"Type\": \"Chips\", \"Calories\": 150}, \"1117\": {\"Product_name\": \"Dairy Milk Silk\", \"Price\": 90, \"Quantity\": 15, \"Type\": \"Chocolate\", \"Calories\": 350}, \"1118\": {\"Product_name\": \"Miranda\", \"Price\": 55, \"Quantity\": 5, \"Type\": \"Beverage\", \"Calories\": 550}, \"1119\": {\"Product_name\": \"London Derry\", \"Price\": 50, \"Quantity\": 2, \"Type\": \"Toffee\", \"Calories\": 230}, \"1120\": {\"Product_name\": \"Munch\", \"Price\": 10, \"Quantity\": 1, \"Type\": \"Chocolate\", \"Calories\": 280}, \"1121\": {\"Product_name\": \"Slice\", \"Price\": 20, \"Quantity\": 10, \"Type\": \"Beverage\", \"Calories\": 450}, \"1122\": {\"Product_name\": \"Aloo Bhujia\", \"Price\": 10, \"Quantity\": 5, \"Type\": \"Chips\", \"Calories\": 200}, \"1123\": {\"Product_name\": \"Alpenlibe\", \"Price\": 10, \"Quantity\": 30, \"Type\": \"Lollipop\", \"Calories\": 100}, \"1124\": {\"Product_name\": \"Eclairs\", \"Price\": 2, \"Quantity\": 50, \"Type\": \"Toffee\", \"Calories\": 40}, \"1125\": {\"Product_name\": \"Kopiko\", \"Price\": 2, \"Quantity\": 60, \"Type\": \"Toffee\", \"Calories\": 90}, \"1126\": {\"Product_name\": \"Melody\", \"Price\": 5, \"Quantity\": 50, \"Type\": \"Toffee\", \"Calories\": 50}, \"1127\": {\"Product_name\": \"Thumbs up\", \"Price\": 20, \"Quantity\": 3, \"Type\": \"Beverage\", \"Calories\": 280}, \"1128\": {\"Product_name\": \"Fanta\", \"Price\": 20, \"Quantity\": 16, \"Type\": \"Beverage\", \"Calories\": 480}, \"1129\": {\"Product_name\": \"Oreo\", \"Price\": 10, \"Quantity\": 20, \"Type\": \"Biscuit\", \"Calories\": 200}, \"1130\": {\"Product_name\": \"Parle G\", \"Price\": 10, \"Quantity\": 50, \"Type\": \"Biscuit\", \"Calories\": 150}}'"
            ]
          },
          "metadata": {},
          "execution_count": 8
        }
      ]
    },
    {
      "cell_type": "code",
      "metadata": {
        "id": "pxu7XUu5J7rZ"
      },
      "source": [
        "product_specs = json.loads(txt)"
      ],
      "execution_count": 9,
      "outputs": []
    },
    {
      "cell_type": "code",
      "metadata": {
        "colab": {
          "base_uri": "https://localhost:8080/"
        },
        "id": "XVdiA11MKlXz",
        "outputId": "b7d67d84-9611-4782-e6ba-1f80ff39a7f4"
      },
      "source": [
        "product_specs"
      ],
      "execution_count": 10,
      "outputs": [
        {
          "output_type": "execute_result",
          "data": {
            "text/plain": [
              "{'1101': {'Calories': 90,\n",
              "  'Price': 10,\n",
              "  'Product_name': 'Cadbury',\n",
              "  'Quantity': 50,\n",
              "  'Type': 'Chocolate'},\n",
              " '1102': {'Calories': 100,\n",
              "  'Price': 20,\n",
              "  'Product_name': '5 Star',\n",
              "  'Quantity': 40,\n",
              "  'Type': 'Chocolate'},\n",
              " '1103': {'Calories': 200,\n",
              "  'Price': 10,\n",
              "  'Product_name': 'Lays',\n",
              "  'Quantity': 100,\n",
              "  'Type': 'Chips'},\n",
              " '1104': {'Calories': 190,\n",
              "  'Price': 10,\n",
              "  'Product_name': 'Kurkure',\n",
              "  'Quantity': 30,\n",
              "  'Type': 'Chips'},\n",
              " '1105': {'Calories': 50,\n",
              "  'Price': 90,\n",
              "  'Product_name': 'Pringles',\n",
              "  'Quantity': 10,\n",
              "  'Type': 'Chips'},\n",
              " '1106': {'Calories': 150,\n",
              "  'Price': 5,\n",
              "  'Product_name': 'MilkyBar',\n",
              "  'Quantity': 5,\n",
              "  'Type': 'Chocolate'},\n",
              " '1107': {'Calories': 250,\n",
              "  'Price': 15,\n",
              "  'Product_name': 'Sprite',\n",
              "  'Quantity': 10,\n",
              "  'Type': 'Beverage'},\n",
              " '1108': {'Calories': 130,\n",
              "  'Price': 20,\n",
              "  'Product_name': 'Mazza',\n",
              "  'Quantity': 20,\n",
              "  'Type': 'Beverage'},\n",
              " '1109': {'Calories': 180,\n",
              "  'Price': 10,\n",
              "  'Product_name': 'Coca Cola',\n",
              "  'Quantity': 6,\n",
              "  'Type': 'Beverage'},\n",
              " '1110': {'Calories': 350,\n",
              "  'Price': 20,\n",
              "  'Product_name': 'Pepsi',\n",
              "  'Quantity': 10,\n",
              "  'Type': 'Beverage'},\n",
              " '1111': {'Calories': 100,\n",
              "  'Price': 10,\n",
              "  'Product_name': 'Too Yum',\n",
              "  'Quantity': 23,\n",
              "  'Type': 'Chips'},\n",
              " '1112': {'Calories': 90,\n",
              "  'Price': 5,\n",
              "  'Product_name': '50 50',\n",
              "  'Quantity': 50,\n",
              "  'Type': 'Biscuit'},\n",
              " '1113': {'Calories': 100,\n",
              "  'Price': 10,\n",
              "  'Product_name': 'Jim Jam',\n",
              "  'Quantity': 10,\n",
              "  'Type': 'Biscuit'},\n",
              " '1114': {'Calories': 400,\n",
              "  'Price': 40,\n",
              "  'Product_name': 'Dorritos',\n",
              "  'Quantity': 100,\n",
              "  'Type': 'Chips'},\n",
              " '1115': {'Calories': 200,\n",
              "  'Price': 20,\n",
              "  'Product_name': 'Hide n Seek',\n",
              "  'Quantity': 30,\n",
              "  'Type': 'Biscuit'},\n",
              " '1116': {'Calories': 150,\n",
              "  'Price': 10,\n",
              "  'Product_name': 'Cheetos',\n",
              "  'Quantity': 10,\n",
              "  'Type': 'Chips'},\n",
              " '1117': {'Calories': 350,\n",
              "  'Price': 90,\n",
              "  'Product_name': 'Dairy Milk Silk',\n",
              "  'Quantity': 15,\n",
              "  'Type': 'Chocolate'},\n",
              " '1118': {'Calories': 550,\n",
              "  'Price': 55,\n",
              "  'Product_name': 'Miranda',\n",
              "  'Quantity': 5,\n",
              "  'Type': 'Beverage'},\n",
              " '1119': {'Calories': 230,\n",
              "  'Price': 50,\n",
              "  'Product_name': 'London Derry',\n",
              "  'Quantity': 2,\n",
              "  'Type': 'Toffee'},\n",
              " '1120': {'Calories': 280,\n",
              "  'Price': 10,\n",
              "  'Product_name': 'Munch',\n",
              "  'Quantity': 1,\n",
              "  'Type': 'Chocolate'},\n",
              " '1121': {'Calories': 450,\n",
              "  'Price': 20,\n",
              "  'Product_name': 'Slice',\n",
              "  'Quantity': 10,\n",
              "  'Type': 'Beverage'},\n",
              " '1122': {'Calories': 200,\n",
              "  'Price': 10,\n",
              "  'Product_name': 'Aloo Bhujia',\n",
              "  'Quantity': 5,\n",
              "  'Type': 'Chips'},\n",
              " '1123': {'Calories': 100,\n",
              "  'Price': 10,\n",
              "  'Product_name': 'Alpenlibe',\n",
              "  'Quantity': 30,\n",
              "  'Type': 'Lollipop'},\n",
              " '1124': {'Calories': 40,\n",
              "  'Price': 2,\n",
              "  'Product_name': 'Eclairs',\n",
              "  'Quantity': 50,\n",
              "  'Type': 'Toffee'},\n",
              " '1125': {'Calories': 90,\n",
              "  'Price': 2,\n",
              "  'Product_name': 'Kopiko',\n",
              "  'Quantity': 60,\n",
              "  'Type': 'Toffee'},\n",
              " '1126': {'Calories': 50,\n",
              "  'Price': 5,\n",
              "  'Product_name': 'Melody',\n",
              "  'Quantity': 50,\n",
              "  'Type': 'Toffee'},\n",
              " '1127': {'Calories': 280,\n",
              "  'Price': 20,\n",
              "  'Product_name': 'Thumbs up',\n",
              "  'Quantity': 3,\n",
              "  'Type': 'Beverage'},\n",
              " '1128': {'Calories': 480,\n",
              "  'Price': 20,\n",
              "  'Product_name': 'Fanta',\n",
              "  'Quantity': 16,\n",
              "  'Type': 'Beverage'},\n",
              " '1129': {'Calories': 200,\n",
              "  'Price': 10,\n",
              "  'Product_name': 'Oreo',\n",
              "  'Quantity': 20,\n",
              "  'Type': 'Biscuit'},\n",
              " '1130': {'Calories': 150,\n",
              "  'Price': 10,\n",
              "  'Product_name': 'Parle G',\n",
              "  'Quantity': 50,\n",
              "  'Type': 'Biscuit'}}"
            ]
          },
          "metadata": {},
          "execution_count": 10
        }
      ]
    },
    {
      "cell_type": "code",
      "metadata": {
        "colab": {
          "base_uri": "https://localhost:8080/"
        },
        "id": "9CBVhf9Sy8WL",
        "outputId": "b14802ea-ce56-40bf-e485-81b97d3982e6"
      },
      "source": [
        "type(product_specs)"
      ],
      "execution_count": 11,
      "outputs": [
        {
          "output_type": "execute_result",
          "data": {
            "text/plain": [
              "dict"
            ]
          },
          "metadata": {},
          "execution_count": 11
        }
      ]
    },
    {
      "cell_type": "markdown",
      "metadata": {
        "id": "BhCDaAfach4U"
      },
      "source": [
        "**Initializing Sales varibles**"
      ]
    },
    {
      "cell_type": "code",
      "metadata": {
        "id": "zOSNFoe_VdM7"
      },
      "source": [
        "sales = {}"
      ],
      "execution_count": 12,
      "outputs": []
    },
    {
      "cell_type": "code",
      "metadata": {
        "id": "9niBttdrXWjc"
      },
      "source": [
        "sales_record = {}\n",
        "i=1"
      ],
      "execution_count": 13,
      "outputs": []
    },
    {
      "cell_type": "markdown",
      "metadata": {
        "id": "HtNVLbKSYCT2"
      },
      "source": [
        "**ORDER HERE**"
      ]
    },
    {
      "cell_type": "code",
      "metadata": {
        "colab": {
          "base_uri": "https://localhost:8080/"
        },
        "id": "GOJ71xCwMhCS",
        "outputId": "a738ef7c-7309-4399-c6fb-64f251d99eae"
      },
      "source": [
        "order=input(\"What you want to buy? \");\n",
        "no_of_things = int(input('How much do you want? '))\n",
        "for key,value in products.items():\n",
        "  for keys,values in value.items():\n",
        "    if(values==order):\n",
        "      print(\"********************\")\n",
        "      print(\"You Ordered:\")\n",
        "      products[key]['Quantity']=no_of_things\n",
        "      print(products[key])\n",
        "      product_specs[str(key)]['Quantity'] = product_specs[str(key)]['Quantity'] - no_of_things\n",
        "      sales.update(products[key])\n",
        "      print(\"********************\")\n",
        "      break\n"
      ],
      "execution_count": 104,
      "outputs": [
        {
          "output_type": "stream",
          "name": "stdout",
          "text": [
            "What you want to buy? Kurkure\n",
            "How much do you want? 2\n",
            "********************\n",
            "You Ordered:\n",
            "{'Product_name': 'Kurkure', 'Price': 10, 'Quantity': 2, 'Type': 'Chips', 'Calories': 190}\n",
            "********************\n"
          ]
        }
      ]
    },
    {
      "cell_type": "markdown",
      "metadata": {
        "id": "jIF93LO8YI82"
      },
      "source": [
        "**SAVING SALES DETAILS**"
      ]
    },
    {
      "cell_type": "code",
      "metadata": {
        "colab": {
          "base_uri": "https://localhost:8080/"
        },
        "id": "UEZ8jds5VuNr",
        "outputId": "595456cd-da71-4b28-97ac-82d6539ec87e"
      },
      "source": [
        "sales"
      ],
      "execution_count": 105,
      "outputs": [
        {
          "output_type": "execute_result",
          "data": {
            "text/plain": [
              "{'Calories': 190,\n",
              " 'Price': 10,\n",
              " 'Product_name': 'Kurkure',\n",
              " 'Quantity': 2,\n",
              " 'Type': 'Chips'}"
            ]
          },
          "metadata": {},
          "execution_count": 105
        }
      ]
    },
    {
      "cell_type": "code",
      "metadata": {
        "id": "zNcbxCKiYoJ7"
      },
      "source": [
        "sales_record[i] = sales\n",
        "i += 1"
      ],
      "execution_count": 106,
      "outputs": []
    },
    {
      "cell_type": "code",
      "metadata": {
        "id": "mzW_b2c-YV7R"
      },
      "source": [
        "sale = json.dumps(sales)"
      ],
      "execution_count": 107,
      "outputs": []
    },
    {
      "cell_type": "code",
      "metadata": {
        "colab": {
          "base_uri": "https://localhost:8080/"
        },
        "id": "GLNoaz4HX00z",
        "outputId": "74933a4f-8ec1-42af-ee7d-730a23da6ece"
      },
      "source": [
        "sales_record"
      ],
      "execution_count": 108,
      "outputs": [
        {
          "output_type": "execute_result",
          "data": {
            "text/plain": [
              "{1: {'Calories': 190,\n",
              "  'Price': 10,\n",
              "  'Product_name': 'Kurkure',\n",
              "  'Quantity': 2,\n",
              "  'Type': 'Chips'},\n",
              " 2: {'Calories': 190,\n",
              "  'Price': 10,\n",
              "  'Product_name': 'Kurkure',\n",
              "  'Quantity': 2,\n",
              "  'Type': 'Chips'},\n",
              " 3: {'Calories': 190,\n",
              "  'Price': 10,\n",
              "  'Product_name': 'Kurkure',\n",
              "  'Quantity': 2,\n",
              "  'Type': 'Chips'},\n",
              " 4: {'Calories': 190,\n",
              "  'Price': 10,\n",
              "  'Product_name': 'Kurkure',\n",
              "  'Quantity': 2,\n",
              "  'Type': 'Chips'},\n",
              " 5: {'Calories': 190,\n",
              "  'Price': 10,\n",
              "  'Product_name': 'Kurkure',\n",
              "  'Quantity': 2,\n",
              "  'Type': 'Chips'},\n",
              " 6: {'Calories': 190,\n",
              "  'Price': 10,\n",
              "  'Product_name': 'Kurkure',\n",
              "  'Quantity': 2,\n",
              "  'Type': 'Chips'},\n",
              " 7: {'Calories': 190,\n",
              "  'Price': 10,\n",
              "  'Product_name': 'Kurkure',\n",
              "  'Quantity': 2,\n",
              "  'Type': 'Chips'},\n",
              " 8: {'Calories': 190,\n",
              "  'Price': 10,\n",
              "  'Product_name': 'Kurkure',\n",
              "  'Quantity': 2,\n",
              "  'Type': 'Chips'},\n",
              " 9: {'Calories': 190,\n",
              "  'Price': 10,\n",
              "  'Product_name': 'Kurkure',\n",
              "  'Quantity': 2,\n",
              "  'Type': 'Chips'},\n",
              " 10: {'Calories': 190,\n",
              "  'Price': 10,\n",
              "  'Product_name': 'Kurkure',\n",
              "  'Quantity': 2,\n",
              "  'Type': 'Chips'},\n",
              " 11: {'Calories': 190,\n",
              "  'Price': 10,\n",
              "  'Product_name': 'Kurkure',\n",
              "  'Quantity': 2,\n",
              "  'Type': 'Chips'}}"
            ]
          },
          "metadata": {},
          "execution_count": 108
        }
      ]
    },
    {
      "cell_type": "code",
      "metadata": {
        "id": "PEm8o3XSXur-"
      },
      "source": [
        "sale = json.dumps(sales_record)"
      ],
      "execution_count": 109,
      "outputs": []
    },
    {
      "cell_type": "markdown",
      "metadata": {
        "id": "9fViENcGYS7y"
      },
      "source": [
        "**SAVING ALL SALES IN A FILE**"
      ]
    },
    {
      "cell_type": "code",
      "metadata": {
        "id": "bYa3hpUKXSaK"
      },
      "source": [
        "fd = open('sales.json','w')\n",
        "fd.write(sale)\n",
        "fd.close()"
      ],
      "execution_count": 110,
      "outputs": []
    },
    {
      "cell_type": "code",
      "metadata": {
        "id": "6BqCdJYCYjIx"
      },
      "source": [
        "fd = open('sales.json','r')\n",
        "saletxt=fd.read()\n",
        "fd.close()"
      ],
      "execution_count": 111,
      "outputs": []
    },
    {
      "cell_type": "code",
      "metadata": {
        "id": "-VH2KY1BY2QO",
        "colab": {
          "base_uri": "https://localhost:8080/",
          "height": 139
        },
        "outputId": "3da10286-69b4-4efc-94f8-aeb90415c6b6"
      },
      "source": [
        "saletxt"
      ],
      "execution_count": 112,
      "outputs": [
        {
          "output_type": "execute_result",
          "data": {
            "application/vnd.google.colaboratory.intrinsic+json": {
              "type": "string"
            },
            "text/plain": [
              "'{\"1\": {\"Product_name\": \"Kurkure\", \"Price\": 10, \"Quantity\": 2, \"Type\": \"Chips\", \"Calories\": 190}, \"2\": {\"Product_name\": \"Kurkure\", \"Price\": 10, \"Quantity\": 2, \"Type\": \"Chips\", \"Calories\": 190}, \"3\": {\"Product_name\": \"Kurkure\", \"Price\": 10, \"Quantity\": 2, \"Type\": \"Chips\", \"Calories\": 190}, \"4\": {\"Product_name\": \"Kurkure\", \"Price\": 10, \"Quantity\": 2, \"Type\": \"Chips\", \"Calories\": 190}, \"5\": {\"Product_name\": \"Kurkure\", \"Price\": 10, \"Quantity\": 2, \"Type\": \"Chips\", \"Calories\": 190}, \"6\": {\"Product_name\": \"Kurkure\", \"Price\": 10, \"Quantity\": 2, \"Type\": \"Chips\", \"Calories\": 190}, \"7\": {\"Product_name\": \"Kurkure\", \"Price\": 10, \"Quantity\": 2, \"Type\": \"Chips\", \"Calories\": 190}, \"8\": {\"Product_name\": \"Kurkure\", \"Price\": 10, \"Quantity\": 2, \"Type\": \"Chips\", \"Calories\": 190}, \"9\": {\"Product_name\": \"Kurkure\", \"Price\": 10, \"Quantity\": 2, \"Type\": \"Chips\", \"Calories\": 190}, \"10\": {\"Product_name\": \"Kurkure\", \"Price\": 10, \"Quantity\": 2, \"Type\": \"Chips\", \"Calories\": 190}, \"11\": {\"Product_name\": \"Kurkure\", \"Price\": 10, \"Quantity\": 2, \"Type\": \"Chips\", \"Calories\": 190}}'"
            ]
          },
          "metadata": {},
          "execution_count": 112
        }
      ]
    },
    {
      "cell_type": "code",
      "metadata": {
        "id": "jOwda14ScEWp"
      },
      "source": [
        "product_sales = json.loads(saletxt)"
      ],
      "execution_count": 113,
      "outputs": []
    },
    {
      "cell_type": "markdown",
      "metadata": {
        "id": "Efqh_ld3cqqi"
      },
      "source": [
        "**TOTAL SALES**"
      ]
    },
    {
      "cell_type": "code",
      "metadata": {
        "colab": {
          "base_uri": "https://localhost:8080/"
        },
        "id": "4lSQYi5JcIgM",
        "outputId": "c22a7921-fae3-4e8e-e6ea-04a16ed7396f"
      },
      "source": [
        "print(\"Number of sales made : \",len(product_sales.keys()))"
      ],
      "execution_count": 115,
      "outputs": [
        {
          "output_type": "stream",
          "name": "stdout",
          "text": [
            "Number of sales made :  11\n"
          ]
        }
      ]
    }
  ]
}