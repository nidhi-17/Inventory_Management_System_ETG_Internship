{
  "nbformat": 4,
  "nbformat_minor": 0,
  "metadata": {
    "colab": {
      "name": "AddItem.ipynb",
      "provenance": [],
      "collapsed_sections": []
    },
    "kernelspec": {
      "name": "python3",
      "display_name": "Python 3"
    },
    "language_info": {
      "name": "python"
    }
  },
  "cells": [
    {
      "cell_type": "markdown",
      "metadata": {
        "id": "1exD_7IhenIS"
      },
      "source": [
        "## **ADDING AN ITEM TO IMS**"
      ]
    },
    {
      "cell_type": "code",
      "metadata": {
        "id": "tOIKI1eUelgp"
      },
      "source": [
        "import json"
      ],
      "execution_count": 5,
      "outputs": []
    },
    {
      "cell_type": "markdown",
      "metadata": {
        "id": "lHV7xzJZewXl"
      },
      "source": [
        "**Using records.json file by uploading it here**"
      ]
    },
    {
      "cell_type": "code",
      "metadata": {
        "id": "gFiyzBcman_q"
      },
      "source": [
        "fd = open('/content/records.json','r')\n",
        "txt = fd.read()"
      ],
      "execution_count": 6,
      "outputs": []
    },
    {
      "cell_type": "code",
      "metadata": {
        "colab": {
          "base_uri": "https://localhost:8080/",
          "height": 139
        },
        "id": "gepX9uCGbEhx",
        "outputId": "4fc4aa7e-d7a3-42e1-f6b6-14d8dee37b1b"
      },
      "source": [
        "txt"
      ],
      "execution_count": 7,
      "outputs": [
        {
          "output_type": "execute_result",
          "data": {
            "application/vnd.google.colaboratory.intrinsic+json": {
              "type": "string"
            },
            "text/plain": [
              "'{\"1101\": {\"Product_name\": \"Cadbury\", \"Price\": 10, \"Quantity\": 50, \"Type\": \"Chocolate\", \"Calories\": 90}, \"1102\": {\"Product_name\": \"5 Star\", \"Price\": 20, \"Quantity\": 40, \"Type\": \"Chocolate\", \"Calories\": 100}, \"1103\": {\"Product_name\": \"Lays\", \"Price\": 10, \"Quantity\": 100, \"Type\": \"Chips\", \"Calories\": 200}, \"1104\": {\"Product_name\": \"Kurkure\", \"Price\": 10, \"Quantity\": 30, \"Type\": \"Chips\", \"Calories\": 190}, \"1105\": {\"Product_name\": \"Pringles\", \"Price\": 90, \"Quantity\": 10, \"Type\": \"Chips\", \"Calories\": 50}, \"1106\": {\"Product_name\": \"MilkyBar\", \"Price\": 5, \"Quantity\": 5, \"Type\": \"Chocolate\", \"Calories\": 150}, \"1107\": {\"Product_name\": \"Sprite\", \"Price\": 15, \"Quantity\": 10, \"Type\": \"Beverage\", \"Calories\": 250}, \"1108\": {\"Product_name\": \"Mazza\", \"Price\": 20, \"Quantity\": 20, \"Type\": \"Beverage\", \"Calories\": 130}, \"1109\": {\"Product_name\": \"Coca Cola\", \"Price\": 10, \"Quantity\": 6, \"Type\": \"Beverage\", \"Calories\": 180}, \"1110\": {\"Product_name\": \"Pepsi\", \"Price\": 20, \"Quantity\": 10, \"Type\": \"Beverage\", \"Calories\": 350}, \"1111\": {\"Product_name\": \"Too Yum\", \"Price\": 10, \"Quantity\": 23, \"Type\": \"Chips\", \"Calories\": 100}, \"1112\": {\"Product_name\": \"50 50\", \"Price\": 5, \"Quantity\": 50, \"Type\": \"Biscuit\", \"Calories\": 90}, \"1113\": {\"Product_name\": \"Jim Jam\", \"Price\": 10, \"Quantity\": 10, \"Type\": \"Biscuit\", \"Calories\": 100}, \"1114\": {\"Product_name\": \"Dorritos\", \"Price\": 40, \"Quantity\": 100, \"Type\": \"Chips\", \"Calories\": 400}, \"1115\": {\"Product_name\": \"Hide n Seek\", \"Price\": 20, \"Quantity\": 30, \"Type\": \"Biscuit\", \"Calories\": 200}, \"1116\": {\"Product_name\": \"Cheetos\", \"Price\": 10, \"Quantity\": 10, \"Type\": \"Chips\", \"Calories\": 150}, \"1117\": {\"Product_name\": \"Dairy Milk Silk\", \"Price\": 90, \"Quantity\": 15, \"Type\": \"Chocolate\", \"Calories\": 350}, \"1118\": {\"Product_name\": \"Miranda\", \"Price\": 55, \"Quantity\": 5, \"Type\": \"Beverage\", \"Calories\": 550}, \"1119\": {\"Product_name\": \"London Derry\", \"Price\": 50, \"Quantity\": 2, \"Type\": \"Toffee\", \"Calories\": 230}, \"1120\": {\"Product_name\": \"Munch\", \"Price\": 10, \"Quantity\": 1, \"Type\": \"Chocolate\", \"Calories\": 280}, \"1121\": {\"Product_name\": \"Slice\", \"Price\": 20, \"Quantity\": 10, \"Type\": \"Beverage\", \"Calories\": 450}, \"1122\": {\"Product_name\": \"Aloo Bhujia\", \"Price\": 10, \"Quantity\": 5, \"Type\": \"Chips\", \"Calories\": 200}, \"1123\": {\"Product_name\": \"Alpenlibe\", \"Price\": 10, \"Quantity\": 30, \"Type\": \"Lollipop\", \"Calories\": 100}, \"1124\": {\"Product_name\": \"Eclairs\", \"Price\": 2, \"Quantity\": 50, \"Type\": \"Toffee\", \"Calories\": 40}, \"1125\": {\"Product_name\": \"Kopiko\", \"Price\": 2, \"Quantity\": 60, \"Type\": \"Toffee\", \"Calories\": 90}, \"1126\": {\"Product_name\": \"Melody\", \"Price\": 5, \"Quantity\": 50, \"Type\": \"Toffee\", \"Calories\": 50}, \"1127\": {\"Product_name\": \"Thumbs up\", \"Price\": 20, \"Quantity\": 3, \"Type\": \"Beverage\", \"Calories\": 280}, \"1128\": {\"Product_name\": \"Fanta\", \"Price\": 20, \"Quantity\": 16, \"Type\": \"Beverage\", \"Calories\": 480}, \"1129\": {\"Product_name\": \"Oreo\", \"Price\": 10, \"Quantity\": 20, \"Type\": \"Biscuit\", \"Calories\": 200}, \"1130\": {\"Product_name\": \"Parle G\", \"Price\": 10, \"Quantity\": 50, \"Type\": \"Biscuit\", \"Calories\": 150}}'"
            ]
          },
          "metadata": {},
          "execution_count": 7
        }
      ]
    },
    {
      "cell_type": "code",
      "metadata": {
        "id": "PT5k-J4hbUeB"
      },
      "source": [
        "product_list = json.loads(txt)"
      ],
      "execution_count": 8,
      "outputs": []
    },
    {
      "cell_type": "markdown",
      "metadata": {
        "id": "M3zcnodAeNcN"
      },
      "source": [
        "**ADD AN ITEM**"
      ]
    },
    {
      "cell_type": "code",
      "metadata": {
        "colab": {
          "base_uri": "https://localhost:8080/"
        },
        "id": "oj1aPeyCbgd-",
        "outputId": "05ae5422-374c-4678-f937-b931b6be8a89"
      },
      "source": [
        "prod_id = input(\"Enter Product ID: \")\n",
        "prod_name = input(\"Enter Product name: \")\n",
        "prod_price = int(input(\"Enter Price: \"))\n",
        "prod_quan = int(input(\"Enter Quantity: \"))\n",
        "prod_type = input(\"Enter Product type: \")\n",
        "prod_calories = int(input(\"Enter Calories: \"))\n",
        "product_list[prod_id]={\"Product_name\":prod_name,\"Price\": prod_price, \"Quantity\":prod_quan , \"Type\": prod_type, \"Calories\": prod_calories}\n",
        "print(\"Item added succesfully !!\")"
      ],
      "execution_count": 9,
      "outputs": [
        {
          "output_type": "stream",
          "name": "stdout",
          "text": [
            "Enter Product ID: 1131\n",
            "Enter Product name: Potato Wafers\n",
            "Enter Price: 12\n",
            "Enter Quantity: 5\n",
            "Enter Product type: Chips\n",
            "Enter Calories: 500\n",
            "Item added succesfully !!\n"
          ]
        }
      ]
    },
    {
      "cell_type": "code",
      "metadata": {
        "colab": {
          "base_uri": "https://localhost:8080/"
        },
        "id": "a6scEKykeoez",
        "outputId": "4a420d51-7f5c-4a27-df9e-423f55ffa534"
      },
      "source": [
        "product_list['1131']"
      ],
      "execution_count": 10,
      "outputs": [
        {
          "output_type": "execute_result",
          "data": {
            "text/plain": [
              "{'Calories': 500,\n",
              " 'Price': 12,\n",
              " 'Product_name': 'Potato Wafers',\n",
              " 'Quantity': 5,\n",
              " 'Type': 'Chips'}"
            ]
          },
          "metadata": {},
          "execution_count": 10
        }
      ]
    },
    {
      "cell_type": "markdown",
      "metadata": {
        "id": "z2yQbnHtgRkc"
      },
      "source": [
        "**SAVING CHANGES BACK TO FILE**"
      ]
    },
    {
      "cell_type": "code",
      "metadata": {
        "id": "iJTMrzQlgUfi"
      },
      "source": [
        "fd = open('/content/records.json','a')\n",
        "fd.write(str(product_list[prod_id]))\n",
        "fd.close()"
      ],
      "execution_count": 11,
      "outputs": []
    },
    {
      "cell_type": "code",
      "metadata": {
        "id": "zUWIQsGCgoAT"
      },
      "source": [
        "fd = open('/content/records.json','r')\n",
        "prod=fd.read()\n",
        "fd.close()"
      ],
      "execution_count": 12,
      "outputs": []
    },
    {
      "cell_type": "code",
      "metadata": {
        "colab": {
          "base_uri": "https://localhost:8080/",
          "height": 191
        },
        "id": "hBNXfZsBgqF2",
        "outputId": "5188fe4f-81c5-408f-f44a-d01dce19aa3f"
      },
      "source": [
        "prod"
      ],
      "execution_count": 13,
      "outputs": [
        {
          "output_type": "execute_result",
          "data": {
            "application/vnd.google.colaboratory.intrinsic+json": {
              "type": "string"
            },
            "text/plain": [
              "'{\"1101\": {\"Product_name\": \"Cadbury\", \"Price\": 10, \"Quantity\": 50, \"Type\": \"Chocolate\", \"Calories\": 90}, \"1102\": {\"Product_name\": \"5 Star\", \"Price\": 20, \"Quantity\": 40, \"Type\": \"Chocolate\", \"Calories\": 100}, \"1103\": {\"Product_name\": \"Lays\", \"Price\": 10, \"Quantity\": 100, \"Type\": \"Chips\", \"Calories\": 200}, \"1104\": {\"Product_name\": \"Kurkure\", \"Price\": 10, \"Quantity\": 30, \"Type\": \"Chips\", \"Calories\": 190}, \"1105\": {\"Product_name\": \"Pringles\", \"Price\": 90, \"Quantity\": 10, \"Type\": \"Chips\", \"Calories\": 50}, \"1106\": {\"Product_name\": \"MilkyBar\", \"Price\": 5, \"Quantity\": 5, \"Type\": \"Chocolate\", \"Calories\": 150}, \"1107\": {\"Product_name\": \"Sprite\", \"Price\": 15, \"Quantity\": 10, \"Type\": \"Beverage\", \"Calories\": 250}, \"1108\": {\"Product_name\": \"Mazza\", \"Price\": 20, \"Quantity\": 20, \"Type\": \"Beverage\", \"Calories\": 130}, \"1109\": {\"Product_name\": \"Coca Cola\", \"Price\": 10, \"Quantity\": 6, \"Type\": \"Beverage\", \"Calories\": 180}, \"1110\": {\"Product_name\": \"Pepsi\", \"Price\": 20, \"Quantity\": 10, \"Type\": \"Beverage\", \"Calories\": 350}, \"1111\": {\"Product_name\": \"Too Yum\", \"Price\": 10, \"Quantity\": 23, \"Type\": \"Chips\", \"Calories\": 100}, \"1112\": {\"Product_name\": \"50 50\", \"Price\": 5, \"Quantity\": 50, \"Type\": \"Biscuit\", \"Calories\": 90}, \"1113\": {\"Product_name\": \"Jim Jam\", \"Price\": 10, \"Quantity\": 10, \"Type\": \"Biscuit\", \"Calories\": 100}, \"1114\": {\"Product_name\": \"Dorritos\", \"Price\": 40, \"Quantity\": 100, \"Type\": \"Chips\", \"Calories\": 400}, \"1115\": {\"Product_name\": \"Hide n Seek\", \"Price\": 20, \"Quantity\": 30, \"Type\": \"Biscuit\", \"Calories\": 200}, \"1116\": {\"Product_name\": \"Cheetos\", \"Price\": 10, \"Quantity\": 10, \"Type\": \"Chips\", \"Calories\": 150}, \"1117\": {\"Product_name\": \"Dairy Milk Silk\", \"Price\": 90, \"Quantity\": 15, \"Type\": \"Chocolate\", \"Calories\": 350}, \"1118\": {\"Product_name\": \"Miranda\", \"Price\": 55, \"Quantity\": 5, \"Type\": \"Beverage\", \"Calories\": 550}, \"1119\": {\"Product_name\": \"London Derry\", \"Price\": 50, \"Quantity\": 2, \"Type\": \"Toffee\", \"Calories\": 230}, \"1120\": {\"Product_name\": \"Munch\", \"Price\": 10, \"Quantity\": 1, \"Type\": \"Chocolate\", \"Calories\": 280}, \"1121\": {\"Product_name\": \"Slice\", \"Price\": 20, \"Quantity\": 10, \"Type\": \"Beverage\", \"Calories\": 450}, \"1122\": {\"Product_name\": \"Aloo Bhujia\", \"Price\": 10, \"Quantity\": 5, \"Type\": \"Chips\", \"Calories\": 200}, \"1123\": {\"Product_name\": \"Alpenlibe\", \"Price\": 10, \"Quantity\": 30, \"Type\": \"Lollipop\", \"Calories\": 100}, \"1124\": {\"Product_name\": \"Eclairs\", \"Price\": 2, \"Quantity\": 50, \"Type\": \"Toffee\", \"Calories\": 40}, \"1125\": {\"Product_name\": \"Kopiko\", \"Price\": 2, \"Quantity\": 60, \"Type\": \"Toffee\", \"Calories\": 90}, \"1126\": {\"Product_name\": \"Melody\", \"Price\": 5, \"Quantity\": 50, \"Type\": \"Toffee\", \"Calories\": 50}, \"1127\": {\"Product_name\": \"Thumbs up\", \"Price\": 20, \"Quantity\": 3, \"Type\": \"Beverage\", \"Calories\": 280}, \"1128\": {\"Product_name\": \"Fanta\", \"Price\": 20, \"Quantity\": 16, \"Type\": \"Beverage\", \"Calories\": 480}, \"1129\": {\"Product_name\": \"Oreo\", \"Price\": 10, \"Quantity\": 20, \"Type\": \"Biscuit\", \"Calories\": 200}, \"1130\": {\"Product_name\": \"Parle G\", \"Price\": 10, \"Quantity\": 50, \"Type\": \"Biscuit\", \"Calories\": 150}}{\\'Product_name\\': \\'Potato Wafers\\', \\'Price\\': 12, \\'Quantity\\': 5, \\'Type\\': \\'Chips\\', \\'Calories\\': 500}'"
            ]
          },
          "metadata": {},
          "execution_count": 13
        }
      ]
    }
  ]
}